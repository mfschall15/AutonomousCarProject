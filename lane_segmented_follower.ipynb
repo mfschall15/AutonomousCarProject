{
  "nbformat": 4,
  "nbformat_minor": 0,
  "metadata": {
    "colab": {
      "provenance": []
    },
    "kernelspec": {
      "display_name": "Python 3",
      "language": "python",
      "name": "python3"
    },
    "language_info": {
      "codemirror_mode": {
        "name": "ipython",
        "version": 3
      },
      "file_extension": ".py",
      "mimetype": "text/x-python",
      "name": "python",
      "nbconvert_exporter": "python",
      "pygments_lexer": "ipython3",
      "version": "3.6.8"
    },
    "accelerator": "GPU",
    "gpuClass": "standard"
  },
  "cells": [
    {
      "cell_type": "markdown",
      "metadata": {
        "id": "6cQTaFc62eS5"
      },
      "source": [
        "Jetsim : Road Following\n",
        "===\n",
        "\n",
        "### Step 5 from README.md\n",
        "\n",
        "---\n",
        "\n",
        "Right click and open 'this' notebook **JESTIM_interactive_regression.ipyn** in Google colab.\n",
        "\n",
        "Open 'Edit/Notebook settings' toolbar in Google Colab and select **GPU**\n",
        "\n",
        "If you get any runtime errors at anytime, go to 'Runtime' toolbar and click 'Restart Runtime'. Rerun all cells.\n",
        "\n",
        "---"
      ]
    },
    {
      "cell_type": "markdown",
      "metadata": {
        "id": "FXlSTPOl2eS9"
      },
      "source": [
        "---\n",
        "\n",
        "### Check DIY Robocar virtual track server is [ONLINE](https://www.twitch.tv/roboticists)\n",
        "You should see an images of the warren track maybe with or without cars. \n",
        "\n",
        "---\n"
      ]
    },
    {
      "cell_type": "code",
      "metadata": {
        "id": "a4LMyhpe2j3y",
        "colab": {
          "base_uri": "https://localhost:8080/"
        },
        "outputId": "c9551553-9b77-404b-d409-4fc51b38e0c4"
      },
      "source": [
        "#initialize google colab\n",
        "from google.colab import drive\n",
        "drive.mount('/content/gdrive', force_remount=True)\n",
        "print(\"DONE\")\n"
      ],
      "execution_count": 1,
      "outputs": [
        {
          "output_type": "stream",
          "name": "stdout",
          "text": [
            "Mounted at /content/gdrive\n",
            "DONE\n"
          ]
        }
      ]
    },
    {
      "cell_type": "markdown",
      "metadata": {
        "id": "zPvJN7_2xXV7"
      },
      "source": [
        "'jestim-google-colab' dirctory\n",
        "==="
      ]
    },
    {
      "cell_type": "code",
      "metadata": {
        "id": "QCfDVbyp2qU7",
        "colab": {
          "base_uri": "https://localhost:8080/"
        },
        "outputId": "3aff293f-0857-4d87-9452-c7596712eaa3"
      },
      "source": [
        "cd /content/gdrive/MyDrive/jetsim_googlecolab "
      ],
      "execution_count": 2,
      "outputs": [
        {
          "output_type": "stream",
          "name": "stdout",
          "text": [
            "/content/gdrive/MyDrive/jetsim_googlecolab\n"
          ]
        }
      ]
    },
    {
      "cell_type": "markdown",
      "metadata": {
        "id": "ruryyaJ3XIcn"
      },
      "source": [
        "Git clone gym-donkeycar to Google Drive\n",
        "===\n",
        "\n",
        "\n",
        "# Skip if already installed "
      ]
    },
    {
      "cell_type": "code",
      "metadata": {
        "id": "TF5uRp382eS-",
        "colab": {
          "base_uri": "https://localhost:8080/"
        },
        "outputId": "7dea80de-9bd6-4d73-f54c-2018f3b99e66"
      },
      "source": [
        "##UPGRADE gym-donkeycar ONLY##\n",
        "!pip install git+https://github.com/tawnkramer/gym-donkeycar --upgrade\n",
        "\n",
        "!git clone https://github.com/tawnkramer/gym-donkeycar\n",
        "%cd gym-donkeycar/\n",
        "!python3 -m pip install -e .[gym-donkeycar] --user\n",
        "%cd ..\n",
        "%mv /content/gdrive/MyDrive/jetsim_googlecolab/component.py /content/gdrive/MyDrive/jetsim_googlecolab/gym-donkeycar\n",
        "%mv /content/gdrive/MyDrive/jetsim_googlecolab/gyminterface.py /content/gdrive/MyDrive/jetsim_googlecolab/gym-donkeycar"
      ],
      "execution_count": null,
      "outputs": [
        {
          "output_type": "stream",
          "name": "stdout",
          "text": [
            "Looking in indexes: https://pypi.org/simple, https://us-python.pkg.dev/colab-wheels/public/simple/\n",
            "Collecting git+https://github.com/tawnkramer/gym-donkeycar\n",
            "  Cloning https://github.com/tawnkramer/gym-donkeycar to /tmp/pip-req-build-3x7n9gj5\n",
            "  Running command git clone -q https://github.com/tawnkramer/gym-donkeycar /tmp/pip-req-build-3x7n9gj5\n",
            "Requirement already satisfied: gym==0.21 in /usr/local/lib/python3.7/dist-packages (from gym-donkeycar==1.3.0) (0.21.0)\n",
            "Requirement already satisfied: numpy in /usr/local/lib/python3.7/dist-packages (from gym-donkeycar==1.3.0) (1.21.6)\n",
            "Requirement already satisfied: pillow in /usr/local/lib/python3.7/dist-packages (from gym-donkeycar==1.3.0) (7.1.2)\n",
            "Requirement already satisfied: importlib-metadata>=4.8.1 in /usr/local/lib/python3.7/dist-packages (from gym==0.21->gym-donkeycar==1.3.0) (4.12.0)\n",
            "Requirement already satisfied: cloudpickle>=1.2.0 in /usr/local/lib/python3.7/dist-packages (from gym==0.21->gym-donkeycar==1.3.0) (1.3.0)\n",
            "Requirement already satisfied: zipp>=0.5 in /usr/local/lib/python3.7/dist-packages (from importlib-metadata>=4.8.1->gym==0.21->gym-donkeycar==1.3.0) (3.8.1)\n",
            "Requirement already satisfied: typing-extensions>=3.6.4 in /usr/local/lib/python3.7/dist-packages (from importlib-metadata>=4.8.1->gym==0.21->gym-donkeycar==1.3.0) (4.1.1)\n",
            "Building wheels for collected packages: gym-donkeycar\n",
            "  Building wheel for gym-donkeycar (setup.py) ... \u001b[?25l\u001b[?25hdone\n",
            "  Created wheel for gym-donkeycar: filename=gym_donkeycar-1.3.0-py2.py3-none-any.whl size=22368 sha256=b25991c7f1d3df757b72d58349f326d40ab3827f5fe98da6383fed925ea70752\n",
            "  Stored in directory: /tmp/pip-ephem-wheel-cache-yiku6c9i/wheels/d6/56/03/418c639424878a35d6998c2fe5369eb07647146fcb9f96238f\n",
            "Successfully built gym-donkeycar\n",
            "Installing collected packages: gym-donkeycar\n",
            "  Attempting uninstall: gym-donkeycar\n",
            "    Found existing installation: gym-donkeycar 1.3.0\n",
            "    Uninstalling gym-donkeycar-1.3.0:\n",
            "      Successfully uninstalled gym-donkeycar-1.3.0\n",
            "Successfully installed gym-donkeycar-1.3.0\n",
            "fatal: destination path 'gym-donkeycar' already exists and is not an empty directory.\n",
            "/content/gdrive/MyDrive/jetsim_googlecolab/gym-donkeycar\n",
            "Looking in indexes: https://pypi.org/simple, https://us-python.pkg.dev/colab-wheels/public/simple/\n",
            "Obtaining file:///content/gdrive/MyDrive/jetsim_googlecolab/gym-donkeycar\n",
            "\u001b[33mWARNING: gym-donkeycar 1.3.0 does not provide the extra 'gym-donkeycar'\u001b[0m\n",
            "Requirement already satisfied: gym==0.21 in /usr/local/lib/python3.7/dist-packages (from gym-donkeycar==1.3.0) (0.21.0)\n",
            "Requirement already satisfied: numpy in /usr/local/lib/python3.7/dist-packages (from gym-donkeycar==1.3.0) (1.21.6)\n",
            "Requirement already satisfied: pillow in /usr/local/lib/python3.7/dist-packages (from gym-donkeycar==1.3.0) (7.1.2)\n",
            "Requirement already satisfied: importlib-metadata>=4.8.1 in /usr/local/lib/python3.7/dist-packages (from gym==0.21->gym-donkeycar==1.3.0) (4.12.0)\n",
            "Requirement already satisfied: cloudpickle>=1.2.0 in /usr/local/lib/python3.7/dist-packages (from gym==0.21->gym-donkeycar==1.3.0) (1.3.0)\n",
            "Requirement already satisfied: zipp>=0.5 in /usr/local/lib/python3.7/dist-packages (from importlib-metadata>=4.8.1->gym==0.21->gym-donkeycar==1.3.0) (3.8.1)\n",
            "Requirement already satisfied: typing-extensions>=3.6.4 in /usr/local/lib/python3.7/dist-packages (from importlib-metadata>=4.8.1->gym==0.21->gym-donkeycar==1.3.0) (4.1.1)\n",
            "Installing collected packages: gym-donkeycar\n",
            "  Running setup.py develop for gym-donkeycar\n",
            "Successfully installed gym-donkeycar\n",
            "/content/gdrive/MyDrive/jetsim_googlecolab\n",
            "mv: cannot stat '/content/gdrive/MyDrive/jetsim_googlecolab/component.py': No such file or directory\n",
            "mv: cannot stat '/content/gdrive/MyDrive/jetsim_googlecolab/gyminterface.py': No such file or directory\n"
          ]
        }
      ]
    },
    {
      "cell_type": "markdown",
      "metadata": {
        "id": "a5ye9nR_0qnP"
      },
      "source": [
        "### IMPORTANT!!!\n",
        "\n",
        "- Go to Google Drive and check if gym-donkeycar folder is installed. \n",
        "- gyminterface.py and component.py should be in gym-donkeycar folder."
      ]
    },
    {
      "cell_type": "markdown",
      "metadata": {
        "id": "YHpLug8MxXV9"
      },
      "source": [
        "Connect to Donkeycar simulator: (Remote only)\n",
        "===\n",
        "\n",
        "NOTE: This notebook is running locally on a Google GPU so it is not local to your network. That is why you must use 'remote' server settings to see your model perform in a simulator. \n",
        "\n",
        "### Method 1 : To DYI Robocar server (provided) / someone elses computer.\n",
        "- Use DIY robocar server or another provided IP address and copy to remote settings in cell below.\n",
        "\n",
        "### Method 2 : To your own host computer.\n",
        "- Configure your router settings port forwarding to your host computer IP address with port 9091 to 9091.\n",
        "- Google search 'my ip address' and copy to remote settings in cell below.\n",
        "\n",
        "Create the racecar dictionary\n",
        "===\n",
        "\n",
        "---\n",
        "\n",
        "customize your car settings.\n",
        "\n",
        "Select track to race on. Warren is the default.\n",
        "\n",
        "Enter the method 1 or 2 IP address as 'remote' for remote connection.\n",
        "\n",
        "---"
      ]
    },
    {
      "cell_type": "code",
      "source": [
        "cd .."
      ],
      "metadata": {
        "id": "fTENh5VQv3tr",
        "colab": {
          "base_uri": "https://localhost:8080/"
        },
        "outputId": "ca9c62ff-8498-43d6-d467-7d38dadcc216"
      },
      "execution_count": null,
      "outputs": [
        {
          "output_type": "stream",
          "name": "stdout",
          "text": [
            "/content/gdrive/MyDrive\n"
          ]
        }
      ]
    },
    {
      "cell_type": "code",
      "metadata": {
        "id": "b_hHRFLG2eS9"
      },
      "source": [
        "#initialize gym wrapper \n",
        "\n",
        "GYM_DICT={\n",
        "    \n",
        " 'car':{\n",
        "    #custom settings\n",
        "    'racer_name': 'Jetsim_NAME',\n",
        "    'bio' : 'Triton_AI_Jetsim = Jetracer',\n",
        "    'country' : 'US',\n",
        "    \"guid\": \"GO_TRITON_AI\",\n",
        "    'body_style' : 'f1',            #car01 | f1 | donkey\n",
        "    'body_rgb': (24, 43, 200),      #(R, G, B)\n",
        "    'car_name' : 'gogo', #displays above car\n",
        "    'font_size' : 50,\n",
        "    #camera settings\n",
        "    \"fov\" : 80,\n",
        "    \"fish_eye_x\" : 0.0, \n",
        "    \"fish_eye_y\" : 0.0, \n",
        "    \"img_w\" : 224, \n",
        "    \"img_h\" : 224, \n",
        "    \"img_d\" : 3, \n",
        "    \"img_enc\" : 'JPG', \n",
        "    \"offset_x\" : 0.0, #sides\n",
        "    \"offset_y\" : 2.0, #height #Jetsim 2.0\n",
        "    \"offset_z\" : 0.0, #forward\n",
        "    \"rot_x\" : 20.0,   #tilt #Jetsim 0.0\n",
        "    #\"rot_y\": 180,    #rotate\n",
        "    },\n",
        "\n",
        "\n",
        "    'default_connection': 'remote',\n",
        "    'remote_connection':{\n",
        "        'scene_name': 'warren',\n",
        "###### REMOTE IP ADDRESS ######\n",
        "        'host':  '71.142.246.207', # DIY Robocar virtual track server = 'donkey-sim.roboticist.dev'\n",
        "###### REMOTE IP ADDRESS ######\n",
        "        'port': 9091,\n",
        "        'artificial_latency': 0}, # Besides the ping to the remote simulator, how many MORE delay would yo\n",
        "    \n",
        "    \n",
        "    'lidar':{\n",
        "        'enabled': False,\n",
        "        'deg_inc': 1, # Degree increment between each ray of the lidar\n",
        "        'max_range': 30.0}, # Max range of the lidar laser\n",
        "    }\n"
      ],
      "execution_count": 3,
      "outputs": []
    },
    {
      "cell_type": "markdown",
      "metadata": {
        "id": "99-h8fWf2eS-"
      },
      "source": [
        "Send dictionary to Triton Racer Gym interface\n",
        "===\n",
        "\n",
        "### Make sure the **DIY Robocar server or Donkeycar Simulator** is ONLINE before running the code below.\n"
      ]
    },
    {
      "cell_type": "code",
      "source": [
        "%cd /content/gdrive/MyDrive/jetsim_googlecolab/gym-donkeycar"
      ],
      "metadata": {
        "colab": {
          "base_uri": "https://localhost:8080/"
        },
        "id": "YwUt67_MBinA",
        "outputId": "55ed7d2a-ba48-4397-a3f7-3dbbe7063f35"
      },
      "execution_count": 4,
      "outputs": [
        {
          "output_type": "stream",
          "name": "stdout",
          "text": [
            "/content/gdrive/MyDrive/jetsim_googlecolab/gym-donkeycar\n"
          ]
        }
      ]
    },
    {
      "cell_type": "code",
      "source": [
        "!ls"
      ],
      "metadata": {
        "colab": {
          "base_uri": "https://localhost:8080/"
        },
        "id": "3iIsPP7bBqmc",
        "outputId": "dfbf9aa7-dc0c-489b-98bc-07bb0170d99b"
      },
      "execution_count": 5,
      "outputs": [
        {
          "output_type": "stream",
          "name": "stdout",
          "text": [
            "AUTHORS.rst\t  examples\t\t  HISTORY.rst  model\t    setup.py\n",
            "component.py\t  gym_donkeycar\t\t  LICENSE      __pycache__  tests\n",
            "CONTRIBUTING.rst  gym_donkeycar.egg-info  Makefile     README.md\n",
            "docs\t\t  gyminterface.py\t  MANIFEST.in  setup.cfg\n"
          ]
        }
      ]
    },
    {
      "cell_type": "code",
      "metadata": {
        "id": "f0ar2i0ia9ea",
        "colab": {
          "base_uri": "https://localhost:8080/"
        },
        "outputId": "80777520-90f3-4557-c485-d69737395f2e"
      },
      "source": [
        "import time\n",
        "\n",
        "#%cd content/gym-donkeycar/\n",
        "from gyminterface import GymInterface\n",
        "gym = GymInterface(gym_config=GYM_DICT)\n",
        "time.sleep(1)\n",
        "imageSeen, x, y, z, speed, cte, lidar = gym.step(0.0, 0.0, 0.0, False)\n",
        "print(imageSeen.shape)\n",
        "\n",
        "%cd ..\n",
        "\n",
        "#If you run this cell more than once it will generate more cars in the sim. Turn simulator application off and back on to delete all cars. "
      ],
      "execution_count": 6,
      "outputs": [
        {
          "output_type": "stream",
          "name": "stdout",
          "text": [
            "Loading scene: warren\n",
            "Sending configs...\n",
            "Sending racer info\n",
            "Car loaded.\n",
            "Sending car config\n",
            "Gym Interface: Camera resolution (224, 224).\n",
            "(224, 224, 3)\n",
            "/content/gdrive/MyDrive/jetsim_googlecolab\n"
          ]
        }
      ]
    },
    {
      "cell_type": "markdown",
      "metadata": {
        "id": "rKpuE-M92eS_"
      },
      "source": [
        "---\n",
        "\n",
        "This will initialize the **racecar in the simulator**. Check if the car **populated** in the sim.\n",
        "\n",
        "---\n"
      ]
    },
    {
      "cell_type": "code",
      "metadata": {
        "id": "rU1-Vz2vXvZl"
      },
      "source": [
        "#If the custom car setting did not load correctly, uncomment this to take car out of sim and then re-run the cell above.\n",
        "\n",
        "gym.onShutdown()"
      ],
      "execution_count": null,
      "outputs": []
    },
    {
      "cell_type": "markdown",
      "metadata": {
        "id": "ywC3MTzo2eS_"
      },
      "source": [
        "Import and load the model\n",
        "=="
      ]
    },
    {
      "cell_type": "code",
      "source": [
        "import torch.nn as nn\n",
        "\n",
        "class Unet(nn.Module):\n",
        "    def __init__(self):\n",
        "        super(Unet, self).__init__()\n",
        "        \n",
        "        self.encode1 = nn.Sequential(nn.Conv2d(3,64,3,1,1),\n",
        "                                  nn.BatchNorm2d(64),\n",
        "                                  nn.ReLU(),\n",
        "                                  nn.Conv2d(64,64,3,1,1),\n",
        "                                  nn.BatchNorm2d(64),\n",
        "                                  nn.ReLU())\n",
        "        \n",
        "        self.encode2 = nn.Sequential(nn.MaxPool2d(2,stride=2),\n",
        "                                  nn.Conv2d(64,128,3,1,1),\n",
        "                                  nn.BatchNorm2d(128),\n",
        "                                  nn.ReLU(),\n",
        "                                  nn.Conv2d(128,128,3,1,1),\n",
        "                                  nn.BatchNorm2d(128),\n",
        "                                  nn.ReLU())\n",
        "        \n",
        "        self.encode3 = nn.Sequential(nn.MaxPool2d(2,stride=2),\n",
        "                                  nn.Conv2d(128,256,3,1,1),\n",
        "                                  nn.BatchNorm2d(256),\n",
        "                                  nn.ReLU(),\n",
        "                                  nn.Conv2d(256,256,3,1,1),\n",
        "                                  nn.BatchNorm2d(256),\n",
        "                                  nn.ReLU())\n",
        "        \n",
        "        self.encode4 = nn.Sequential(nn.MaxPool2d(2,stride=2),\n",
        "                                  nn.Conv2d(256,512,3,1,1),\n",
        "                                  nn.BatchNorm2d(512),\n",
        "                                  nn.ReLU(),\n",
        "                                  nn.Conv2d(512,512,3,1,1),\n",
        "                                  nn.BatchNorm2d(512),\n",
        "                                  nn.ReLU())\n",
        "        \n",
        "        self.encode5 = nn.Sequential(nn.MaxPool2d(2,stride=2),\n",
        "                                  nn.Conv2d(512,512,3,1,1),\n",
        "                                  nn.BatchNorm2d(512),\n",
        "                                  nn.ReLU(),\n",
        "                                  nn.Conv2d(512,512,3,1,1),\n",
        "                                  nn.BatchNorm2d(512),\n",
        "                                  nn.ReLU())\n",
        "        \n",
        "        #self.upsample1 = nn.ConvTranspose2d(512,512,2,2)\n",
        "        self.upsample1 = nn.UpsamplingBilinear2d(scale_factor=2)\n",
        "        self.decode1 = nn.Sequential(nn.Conv2d(1024,256,3,1,1),\n",
        "                                    nn.BatchNorm2d(256),\n",
        "                                    nn.ReLU(),\n",
        "                                    nn.Conv2d(256,256,3,1,1),\n",
        "                                    nn.BatchNorm2d(256),\n",
        "                                    nn.ReLU())\n",
        "        \n",
        "        #self.upsample2 = nn.ConvTranspose2d(256,256,2,2)\n",
        "        self.upsample2 = nn.UpsamplingBilinear2d(scale_factor=2)\n",
        "        self.decode2 = nn.Sequential(nn.Conv2d(512,128,3,1,1),\n",
        "                                    nn.BatchNorm2d(128),\n",
        "                                    nn.ReLU(),\n",
        "                                    nn.Conv2d(128,128,3,1,1),\n",
        "                                    nn.BatchNorm2d(128),\n",
        "                                    nn.ReLU())\n",
        "        \n",
        "        #self.upsample3 = nn.ConvTranspose2d(128,128,2,2)\n",
        "        self.upsample3 = nn.UpsamplingBilinear2d(scale_factor=2)\n",
        "        self.decode3 = nn.Sequential(nn.Conv2d(256,64,3,1,1),\n",
        "                                    nn.BatchNorm2d(64),\n",
        "                                    nn.ReLU(),\n",
        "                                    nn.Conv2d(64,64,3,1,1),\n",
        "                                    nn.BatchNorm2d(64),\n",
        "                                    nn.ReLU())\n",
        "        \n",
        "        #self.upsample4 = nn.ConvTranspose2d(64,64,2,2)\n",
        "        self.upsample4 = nn.UpsamplingBilinear2d(scale_factor=2)\n",
        "        self.decode4 = nn.Sequential(nn.Conv2d(128,64,3,1,1),\n",
        "                                    nn.BatchNorm2d(64),\n",
        "                                    nn.ReLU(),\n",
        "                                    nn.Conv2d(64,64,3,1,1),\n",
        "                                    nn.BatchNorm2d(64),\n",
        "                                    nn.ReLU())\n",
        "        \n",
        "        self.decode5 = nn.Conv2d(64,2,1)\n",
        "\n",
        "    def forward(self, x):\n",
        "        #x = torch.unbind(x,dim=0)[-1]\n",
        "        x1 = self.encode1(x)\n",
        "        x2 = self.encode2(x1)\n",
        "        x3 = self.encode3(x2)\n",
        "        x4 = self.encode4(x3)\n",
        "        x5 = self.encode5(x4)\n",
        "        x = self.upsample1(x5)\n",
        "        x = self.decode1(torch.cat([x4,x],dim=1))\n",
        "        x = self.upsample2(x)\n",
        "        x = self.decode2(torch.cat([x3,x],dim=1))\n",
        "        x = self.upsample3(x)\n",
        "        x = self.decode3(torch.cat([x2,x],dim=1))\n",
        "        x = self.upsample4(x)\n",
        "        x = self.decode4(torch.cat([x1,x],dim=1))\n",
        "        x = self.decode5(x)\n",
        "    \n",
        "        return x\n"
      ],
      "metadata": {
        "id": "YnAHpYs67sMg"
      },
      "execution_count": 7,
      "outputs": []
    },
    {
      "cell_type": "code",
      "source": [
        "%cd /content/gym-donkeycar/"
      ],
      "metadata": {
        "colab": {
          "base_uri": "https://localhost:8080/"
        },
        "id": "s42QC7ffEaFM",
        "outputId": "44f16235-4220-40e2-d7b6-01bf007499ca"
      },
      "execution_count": null,
      "outputs": [
        {
          "output_type": "stream",
          "name": "stdout",
          "text": [
            "/content/gym-donkeycar\n"
          ]
        }
      ]
    },
    {
      "cell_type": "code",
      "source": [
        "%cd /content/gdrive/MyDrive/jetsim_googlecolab/gym-donkeycar"
      ],
      "metadata": {
        "colab": {
          "base_uri": "https://localhost:8080/"
        },
        "id": "PnmBuxMEIEjr",
        "outputId": "ca655f9f-7ed0-49ad-aec6-1c82af94fca2"
      },
      "execution_count": 8,
      "outputs": [
        {
          "output_type": "stream",
          "name": "stdout",
          "text": [
            "/content/gdrive/MyDrive/jetsim_googlecolab/gym-donkeycar\n"
          ]
        }
      ]
    },
    {
      "cell_type": "code",
      "metadata": {
        "id": "5mckMCC2sfxw",
        "colab": {
          "base_uri": "https://localhost:8080/"
        },
        "outputId": "853c6a69-3879-4b82-b70d-4e76c7d3d9f2"
      },
      "source": [
        "import torch\n",
        "import torchvision\n",
        "\n",
        "CATEGORIES = ['m1_images']\n",
        "device = torch.device('cuda')\n",
        "model1 = Unet().to(device)\n",
        "model2 = torchvision.models.resnet18(pretrained=False)\n",
        "model2.fc = torch.nn.Linear(512, 2 * len(CATEGORIES))\n",
        "model2 = model2.cuda().eval()\n",
        "\n",
        "# Make sure the model you select is in the 'models' folder within this Google drive setup.\n",
        "model1.load_state_dict(torch.load('./model/unet_weights.pth'))\n",
        "model2.load_state_dict(torch.load('./model/resnet_weights1.pth'))\n",
        "print(\"DONE\")"
      ],
      "execution_count": 9,
      "outputs": [
        {
          "output_type": "stream",
          "name": "stderr",
          "text": [
            "/usr/local/lib/python3.8/dist-packages/torchvision/models/_utils.py:208: UserWarning: The parameter 'pretrained' is deprecated since 0.13 and may be removed in the future, please use 'weights' instead.\n",
            "  warnings.warn(\n",
            "/usr/local/lib/python3.8/dist-packages/torchvision/models/_utils.py:223: UserWarning: Arguments other than a weight enum or `None` for 'weights' are deprecated since 0.13 and may be removed in the future. The current behavior is equivalent to passing `weights=None`.\n",
            "  warnings.warn(msg)\n"
          ]
        },
        {
          "output_type": "stream",
          "name": "stdout",
          "text": [
            "DONE\n"
          ]
        }
      ]
    },
    {
      "cell_type": "code",
      "source": [
        "from google.colab import drive\n",
        "drive.mount('/content/drive')"
      ],
      "metadata": {
        "id": "m-IqF0m6pRCv",
        "outputId": "b55bc0de-ff66-47c0-abd2-535a12facd4e",
        "colab": {
          "base_uri": "https://localhost:8080/"
        }
      },
      "execution_count": null,
      "outputs": [
        {
          "output_type": "stream",
          "name": "stdout",
          "text": [
            "Mounted at /content/drive\n"
          ]
        }
      ]
    },
    {
      "cell_type": "code",
      "source": [
        "%cd ..\n",
        "!ls"
      ],
      "metadata": {
        "colab": {
          "base_uri": "https://localhost:8080/"
        },
        "id": "AYb4MUh_F5_L",
        "outputId": "e33de2f1-709b-4983-bbec-95f724caa518"
      },
      "execution_count": 11,
      "outputs": [
        {
          "output_type": "stream",
          "name": "stdout",
          "text": [
            "/content/gdrive/MyDrive/jetsim_googlecolab\n",
            "gym-donkeycar\t\t\t     __pycache__\t   xy_dataset.py\n",
            "JETSIM_interactive_regression.ipynb  SIM_road_following_A\n",
            "JETSIM_road_following.ipynb\t     utils.py\n"
          ]
        }
      ]
    },
    {
      "cell_type": "markdown",
      "metadata": {
        "id": "n3tahiqg2eTA"
      },
      "source": [
        "Run the model\n",
        "==="
      ]
    },
    {
      "cell_type": "code",
      "metadata": {
        "id": "EIg_HYhQ2eTA",
        "colab": {
          "base_uri": "https://localhost:8080/"
        },
        "outputId": "d00651ab-75db-42fa-9029-12f5bf25a84b"
      },
      "source": [
        "from utils import preprocess\n",
        "from PIL import Image\n",
        "from io import BytesIO\n",
        "import IPython.display\n",
        "from matplotlib import pyplot as plt\n",
        "import torchvision.transforms as transforms\n",
        "import numpy as np\n",
        "import time\n",
        "import datetime\n",
        "import ipywidgets as widgets\n",
        "from IPython.display import display\n",
        "from IPython.display import clear_output\n",
        "\n",
        "\n",
        "#****************PRIMARY CONTROLS*****************\n",
        "STEERING_GAIN = 1.0             #Scalar or intesity of steering response, usally matches THROTTLE_GAIN.\n",
        "THROTTLE_GAIN = 1.0            #Scalar or intesity of throttle, usally matches STEERING_GAIN.\n",
        "MAX           = 0.9             #Limiter for controlling speed.\n",
        "#********************OPTIONS**********************\n",
        "AUTO_RESET    = False            #reset the car to the start line if crash detected.\n",
        "BOOST         = False           #Inital booster THROTTLE = 1.0 at start of race for 5 seconds.\n",
        "LIMITER       = False           # THROTTLE = MAX \n",
        "PRINT         = False           #outputs steering & throttle values\n",
        "STRAIGHT_AWAY = False           #Straight away for max speed based on x and z coordinate from step function.\n",
        "STRAIGHT_AWAY_THROTTLE = 1.0    #Straight away max speed.\n",
        "#*******************INITIAL***********************\n",
        "STEERING_BIAS = 0.0             #Steering offset. \n",
        "THROTTLE_BIAS = 0.0             #Throttle offset, creeps forward at minimum speed.\n",
        "BREAKS        = 0.0             #Final break value.\n",
        "t0 = datetime.datetime.now()    #for lap time\n",
        "out = 0                         #counter for clearing steering & throttle outputs\n",
        "speed_last = 0                  #auto reset\n",
        "mark = 0                        #auto reset\n",
        "stuck = datetime.datetime.now() #auto reset\n",
        "#*************************************************\n",
        "\n",
        "\n",
        "\n",
        "#Main Jetsim model loop\n",
        "print('JETSIM ACTIVATED')\n",
        "THROTTLE = 1.0\n",
        "STEERING = 0.0\n",
        "try: \n",
        "    while True:\n",
        "        \n",
        "        #_________________________Boost_______________________\n",
        "        #Inital booster THROTTLE = 1.0 at start of race for 5 seconds.\n",
        "        if BOOST:\n",
        "            image, x, y, z, speed, cte, lidar = gym.step(0, 1.0, 0.0, False);\n",
        "            print(\"BOOST\")\n",
        "            time.sleep(5) #boost for 5 seconds\n",
        "            print(\"DRIVING\")\n",
        "            BOOST = False\n",
        "        #_____________________________________________________\n",
        "\n",
        "\n",
        "\n",
        "        #___________________Image processing__________________\n",
        "        #Send controls to gym wrapper and returns image, coordinates, etc.\n",
        "        image, x, y, z, speed, cte, lidar = gym.step(STEERING, THROTTLE, BREAKS, False);\n",
        "\n",
        "        #uncomment this for none lane detection\n",
        "        #image = preprocess(image).half()\n",
        "\n",
        "\n",
        "        image = preprocess(image)\n",
        "        lane_out = model1(image)\n",
        "        lane_pred = torch.squeeze(lane_out.max(1,keepdim=True)[1]).cpu().numpy().astype(np.uint8)\n",
        "        lane_pred = Image.fromarray(lane_pred* 255).convert('RGB') \n",
        "        \n",
        "        #print(np.amax(lane_pred))\n",
        "        \n",
        "        lane_pred = transforms.functional.to_tensor(lane_pred).to(device)\n",
        "        lane_pred = lane_pred[None, ...]\n",
        "        #a = np.uint8(lane_pred)\n",
        "        \n",
        "        #f = BytesIO()\n",
        "        #Image.fromarray(lane_pred.detach().cpu().numpy()).save(f, 'png')\n",
        "        #IPython.display.display(IPython.display.Image(data=f.getvalue()))\n",
        "        \n",
        "        output = model2(lane_pred).detach().cpu().numpy().flatten()\n",
        "        S = float(output[0]) #-1.0 to 1.0 steering decision.\n",
        "        T = float(output[1]) ##-1.0 to 1.0 throttle decision.\n",
        "        #_____________________________________________________\n",
        "\n",
        "\n",
        "\n",
        "        #_____________Steering & Throttle control_____________\n",
        "        #optimize steering and throttle value. Set the limit on the top speed. \n",
        "        STEERING = round(S * STEERING_GAIN + STEERING_BIAS, 2)  \n",
        "        #print(S)\n",
        "        THROTTLE = round(T * THROTTLE_GAIN + THROTTLE_BIAS, 2)\n",
        "        if LIMITER: #Limiter\n",
        "            if THROTTLE > MAX: #maximum speed\n",
        "                THROTTLE = MAX\n",
        "        #____________________________________________________\n",
        "\n",
        "\n",
        "\n",
        "        #____________________Straight away_____________________\n",
        "        #if car is on the straightest path of the track, go max speed. Warren track only because of coordinates.\n",
        "        if STRAIGHT_AWAY and x <= 45 and x >= 5 and z <= -20 and z >= -30: #coordinates\n",
        "            THROTTLE = STRAIGHT_AWAY_THROTTLE\n",
        "            STEERING = STEERING*0.5 #reduce oversteer\n",
        "        #____________________________________________________\n",
        "\n",
        "\n",
        "\n",
        "        #____________________Print value_____________________\n",
        "        #print steering and throttle value to see realtime control values.\n",
        "        if PRINT: #output value\n",
        "            print(\"Steering = \"+str(STEERING)+\" Throttle  = \"+str(THROTTLE))\n",
        "            if out == 10:\n",
        "                clear_output()\n",
        "                out = 0\n",
        "            out+=1\n",
        "        #____________________________________________________\n",
        "\n",
        "            \n",
        "\n",
        "        #____________________Auto reset______________________\n",
        "        #reset the car to the start line if crash detected.\n",
        "        if AUTO_RESET and round(speed,0) == round(speed_last,0):\n",
        "          mark = datetime.datetime.now()\n",
        "          check = mark - stuck\n",
        "          if (str(check) > '0:00:07.000000'):\n",
        "            print('NOT MOVING')\n",
        "            stuck = datetime.datetime.now()\n",
        "            BOOST = True\n",
        "            gym.step(0.0, 0.0, 100.0, True)\n",
        "            time.sleep(1)\n",
        "        else: \n",
        "          speed_last = speed\n",
        "          mark = stuck\n",
        "          stuck = datetime.datetime.now()\n",
        "        #____________________________________________________\n",
        "\n",
        "\n",
        "\n",
        "        #___________________Show lap time___________________\n",
        "        #displays by default. Cannot show steering and throttle output at the same time. \n",
        "        if x>=29 and x<=30 and z <= -20 and z >= -30:\n",
        "            time_print = datetime.datetime.now() - t0\n",
        "            if (str(time_print) > '0:00:01.000000'):\n",
        "                print (time_print)\n",
        "            t0 = datetime.datetime.now()\n",
        "        #____________________________________________________\n",
        "\n",
        "\n",
        "#####STOP the main loop select \"Kernel\" in the drop down menu and click \"Interrupt Kernel\"#####\n",
        "except KeyboardInterrupt:\n",
        "    \n",
        "    #Resets steering and throttle to 0, applies breaks and resets for 1 second.\n",
        "    print(\"!!!STOP!!!\")\n",
        "    gym.step(0.0, 0.0, 100.0, True);\n",
        "    time.sleep(1)"
      ],
      "execution_count": 14,
      "outputs": [
        {
          "output_type": "stream",
          "name": "stdout",
          "text": [
            "JETSIM ACTIVATED\n",
            "0:00:01.354100\n",
            "0:00:21.555675\n",
            "!!!STOP!!!\n",
            "Resetting car...\n"
          ]
        }
      ]
    },
    {
      "cell_type": "code",
      "metadata": {
        "id": "DTasNpqN2eTB"
      },
      "source": [
        "#RESET run this cell multiple times to stop the car if it still running.\n",
        "gym.step(0.0, 0.0, 100.0, True);"
      ],
      "execution_count": null,
      "outputs": []
    },
    {
      "cell_type": "markdown",
      "metadata": {
        "id": "i9mndrd0xXWD"
      },
      "source": [
        "If finished - YOU MUST Take car out of SERVER!!!\n",
        "==="
      ]
    },
    {
      "cell_type": "code",
      "metadata": {
        "id": "iMFPMTWG2eTC"
      },
      "source": [
        "gym.onShutdown()"
      ],
      "execution_count": null,
      "outputs": []
    },
    {
      "cell_type": "code",
      "source": [],
      "metadata": {
        "id": "HQDHJ8ubCjPE"
      },
      "execution_count": null,
      "outputs": []
    }
  ]
}